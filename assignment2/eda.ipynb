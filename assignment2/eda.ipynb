{
 "cells": [
  {
   "metadata": {},
   "cell_type": "markdown",
   "source": "",
   "id": "aad1e8296ad05ba9"
  },
  {
   "cell_type": "code",
   "id": "initial_id",
   "metadata": {
    "collapsed": true,
    "jupyter": {
     "is_executing": true
    }
   },
   "source": [
    "import pandas as pd\n",
    "import numpy as np\n",
    "import os \n",
    "\n",
    "root = \"./\"\n",
    "\n",
    "file1 = \"hospital1.xlsx\"\n",
    "file2 = \"hospital2.xlsx\"\n",
    "\n",
    "df1 = pd.read_excel(root + file1)\n",
    "df2 = pd.read_excel(root + file2)"
   ],
   "outputs": [],
   "execution_count": null
  },
  {
   "metadata": {},
   "cell_type": "code",
   "outputs": [],
   "execution_count": null,
   "source": "df1.describe()",
   "id": "9cdf90ad9616c42f"
  },
  {
   "metadata": {},
   "cell_type": "code",
   "outputs": [],
   "execution_count": null,
   "source": "df2.describe()",
   "id": "82b664d460060827"
  },
  {
   "metadata": {},
   "cell_type": "code",
   "outputs": [],
   "execution_count": null,
   "source": "df1.info()",
   "id": "e058064057d1c3b8"
  },
  {
   "metadata": {},
   "cell_type": "code",
   "outputs": [],
   "execution_count": null,
   "source": "df2.info()",
   "id": "89c503bae7400d1d"
  },
  {
   "metadata": {},
   "cell_type": "code",
   "outputs": [],
   "execution_count": null,
   "source": [
    "target_var = \"PCR_result\"\n",
    "predictor_vars1 = list(df1.columns)\n",
    "predictor_vars2 = list(df2.columns)\n",
    "predictor_vars1.remove(target_var)\n",
    "predictor_vars2.remove(target_var)"
   ],
   "id": "934aa2ac5bf3a67a"
  },
  {
   "metadata": {},
   "cell_type": "code",
   "outputs": [],
   "execution_count": null,
   "source": [
    "import pandas as pd\n",
    "import matplotlib.pyplot as plt\n",
    "\n",
    "# Example data (replace with your actual data)\n",
    "# df1 and df2 should already exist\n",
    "target_var = \"PCR_result\"\n",
    "predictor_vars1 = list(df1.columns)\n",
    "predictor_vars2 = list(df2.columns)\n",
    "predictor_vars1.remove(target_var)\n",
    "predictor_vars2.remove(target_var)\n",
    "\n",
    "# Column Plot: Comparing all variables in both DataFrames\n",
    "def compare_all_columns(df1, df2, predictor_vars1, predictor_vars2):\n",
    "    fig, axes = plt.subplots(len(predictor_vars1), 1, figsize=(10, 5 * len(predictor_vars1)))\n",
    "    for i, var in enumerate(predictor_vars1):\n",
    "        ax = axes[i] if len(predictor_vars1) > 1 else axes\n",
    "        df1[var].value_counts().sort_index().plot(kind='bar', color='blue', alpha=0.5, ax=ax, label='df1')\n",
    "        if var in predictor_vars2:\n",
    "            df2[var].value_counts().sort_index().plot(kind='bar', color='orange', alpha=0.5, ax=ax, label='df2')\n",
    "        ax.set_title(f\"Comparison of {var} in df1 and df2\")\n",
    "        ax.set_xlabel(var)\n",
    "        ax.set_ylabel(\"Count\")\n",
    "        ax.legend()\n",
    "    plt.tight_layout()\n",
    "    plt.show()\n",
    "\n",
    "# Column Plot: Comparing the target variable in both DataFrames\n",
    "def compare_target_variable(df1, df2, target_var):\n",
    "    fig, ax = plt.subplots(figsize=(10, 6))\n",
    "    df1[target_var].value_counts().sort_index().plot(kind='bar', color='blue', alpha=0.5, ax=ax, label='df1')\n",
    "    df2[target_var].value_counts().sort_index().plot(kind='bar', color='orange', alpha=0.5, ax=ax, label='df2')\n",
    "    ax.set_title(f\"Comparison of {target_var} in df1 and df2\")\n",
    "    ax.set_xlabel(target_var)\n",
    "    ax.set_ylabel(\"Count\")\n",
    "    ax.legend()\n",
    "    plt.show()\n",
    "\n",
    "# Call the functions\n",
    "compare_all_columns(df1, df2, predictor_vars1, predictor_vars2)\n",
    "compare_target_variable(df1, df2, target_var)\n"
   ],
   "id": "cb97962ac7efe430"
  }
 ],
 "metadata": {
  "kernelspec": {
   "display_name": "Python 3",
   "language": "python",
   "name": "python3"
  },
  "language_info": {
   "codemirror_mode": {
    "name": "ipython",
    "version": 2
   },
   "file_extension": ".py",
   "mimetype": "text/x-python",
   "name": "python",
   "nbconvert_exporter": "python",
   "pygments_lexer": "ipython2",
   "version": "2.7.6"
  }
 },
 "nbformat": 4,
 "nbformat_minor": 5
}
